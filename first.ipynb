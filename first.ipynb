{
 "cells": [
  {
   "cell_type": "code",
   "execution_count": 1,
   "metadata": {},
   "outputs": [],
   "source": [
    "import cv2"
   ]
  },
  {
   "cell_type": "code",
   "execution_count": 4,
   "metadata": {},
   "outputs": [],
   "source": [
    "grey_img = cv2.imread('original.png', 0)"
   ]
  },
  {
   "cell_type": "code",
   "execution_count": 8,
   "metadata": {},
   "outputs": [
    {
     "output_type": "execute_result",
     "data": {
      "text/plain": "array([[187, 158, 104, 121, 143],\n       [198, 125, 255, 255, 147],\n       [209, 134, 255,  97, 182]], dtype=uint8)"
     },
     "metadata": {},
     "execution_count": 8
    }
   ],
   "source": [
    "grey_img"
   ]
  },
  {
   "cell_type": "code",
   "execution_count": 9,
   "metadata": {},
   "outputs": [
    {
     "output_type": "execute_result",
     "data": {
      "text/plain": "True"
     },
     "metadata": {},
     "execution_count": 9
    }
   ],
   "source": [
    "cv2.imwrite('newimg.png', grey_img)"
   ]
  },
  {
   "cell_type": "code",
   "execution_count": 11,
   "metadata": {},
   "outputs": [
    {
     "output_type": "execute_result",
     "data": {
      "text/plain": "array([[104, 121],\n       [255, 255]], dtype=uint8)"
     },
     "metadata": {},
     "execution_count": 11
    }
   ],
   "source": [
    "grey_img[0:2, 2:4]"
   ]
  },
  {
   "cell_type": "code",
   "execution_count": 12,
   "metadata": {},
   "outputs": [
    {
     "output_type": "execute_result",
     "data": {
      "text/plain": "array([[187, 198, 209],\n       [158, 125, 134],\n       [104, 255, 255],\n       [121, 255,  97],\n       [143, 147, 182]], dtype=uint8)"
     },
     "metadata": {},
     "execution_count": 12
    }
   ],
   "source": [
    "grey_img.T"
   ]
  },
  {
   "cell_type": "code",
   "execution_count": 14,
   "metadata": {},
   "outputs": [
    {
     "output_type": "stream",
     "name": "stdout",
     "text": "187\n158\n104\n121\n143\n198\n125\n255\n255\n147\n209\n134\n255\n97\n182\n"
    }
   ],
   "source": [
    "for i in grey_img.flat:\n",
    "    print(i)"
   ]
  },
  {
   "cell_type": "code",
   "execution_count": 18,
   "metadata": {},
   "outputs": [
    {
     "output_type": "execute_result",
     "data": {
      "text/plain": "array([[187, 158, 104, 121, 143, 187, 158, 104, 121, 143],\n       [198, 125, 255, 255, 147, 198, 125, 255, 255, 147],\n       [209, 134, 255,  97, 182, 209, 134, 255,  97, 182]], dtype=uint8)"
     },
     "metadata": {},
     "execution_count": 18
    }
   ],
   "source": [
    "import numpy as np\n",
    "ims = np.hstack([grey_img, grey_img])\n",
    "ims"
   ]
  },
  {
   "cell_type": "code",
   "execution_count": 19,
   "metadata": {},
   "outputs": [
    {
     "output_type": "execute_result",
     "data": {
      "text/plain": "array([[187, 158, 104, 121, 143],\n       [198, 125, 255, 255, 147],\n       [209, 134, 255,  97, 182],\n       [187, 158, 104, 121, 143],\n       [198, 125, 255, 255, 147],\n       [209, 134, 255,  97, 182]], dtype=uint8)"
     },
     "metadata": {},
     "execution_count": 19
    }
   ],
   "source": [
    "imv = np.vstack([grey_img, grey_img])\n",
    "imv"
   ]
  },
  {
   "cell_type": "code",
   "execution_count": 20,
   "metadata": {},
   "outputs": [
    {
     "output_type": "execute_result",
     "data": {
      "text/plain": "[array([[187, 158],\n        [198, 125],\n        [209, 134]], dtype=uint8),\n array([[104, 121],\n        [255, 255],\n        [255,  97]], dtype=uint8),\n array([[143, 187],\n        [147, 198],\n        [182, 209]], dtype=uint8),\n array([[158, 104],\n        [125, 255],\n        [134, 255]], dtype=uint8),\n array([[121, 143],\n        [255, 147],\n        [ 97, 182]], dtype=uint8)]"
     },
     "metadata": {},
     "execution_count": 20
    }
   ],
   "source": [
    "hs = np.hsplit(ims, 5)\n",
    "hs"
   ]
  },
  {
   "cell_type": "code",
   "execution_count": 21,
   "metadata": {},
   "outputs": [
    {
     "output_type": "execute_result",
     "data": {
      "text/plain": "[array([[187, 158, 104, 121, 143],\n        [198, 125, 255, 255, 147]], dtype=uint8),\n array([[209, 134, 255,  97, 182],\n        [187, 158, 104, 121, 143]], dtype=uint8),\n array([[198, 125, 255, 255, 147],\n        [209, 134, 255,  97, 182]], dtype=uint8)]"
     },
     "metadata": {},
     "execution_count": 21
    }
   ],
   "source": [
    "vs = np.vsplit(imv, 3)\n",
    "vs"
   ]
  },
  {
   "cell_type": "code",
   "execution_count": null,
   "metadata": {},
   "outputs": [],
   "source": []
  }
 ],
 "metadata": {
  "language_info": {
   "codemirror_mode": {
    "name": "ipython",
    "version": 3
   },
   "file_extension": ".py",
   "mimetype": "text/x-python",
   "name": "python",
   "nbconvert_exporter": "python",
   "pygments_lexer": "ipython3",
   "version": "3.7.7-final"
  },
  "orig_nbformat": 2,
  "kernelspec": {
   "name": "python37764bittensorflowcondaf80c0e406c914652a4ecbd43f559b156",
   "display_name": "Python 3.7.7 64-bit ('tensor_flow': conda)"
  }
 },
 "nbformat": 4,
 "nbformat_minor": 2
}